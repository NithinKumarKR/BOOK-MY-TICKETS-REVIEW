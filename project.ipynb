{
  "cells": [
    {
      "cell_type": "code",
      "source": [
        "import numpy as np\n",
        "import tensorflow as tf\n",
        "from tensorflow.keras.datasets import imdb\n",
        "from tensorflow.keras.preprocessing import sequence\n",
        "from tensorflow.keras.layers import Embedding, LSTM, Dense, SimpleRNN\n",
        "from tensorflow.keras.models import Sequential\n",
        "from tensorflow.keras.preprocessing.sequence import pad_sequences"
      ],
      "metadata": {
        "id": "1iBhmEj9pChR"
      },
      "execution_count": 2,
      "outputs": []
    },
    {
      "cell_type": "code",
      "source": [
        "##load IMDB\n",
        "max=feature=1000\n",
        "(x_train,y_train),(x_test,y_test)=imdb.load_data(num_words=max)"
      ],
      "metadata": {
        "colab": {
          "base_uri": "https://localhost:8080/"
        },
        "id": "lb4rqKgTpQ54",
        "outputId": "12fb4d9a-6c99-45a4-f4e7-bc32b7eaa60f"
      },
      "execution_count": 3,
      "outputs": [
        {
          "output_type": "stream",
          "name": "stdout",
          "text": [
            "Downloading data from https://storage.googleapis.com/tensorflow/tf-keras-datasets/imdb.npz\n",
            "\u001b[1m17464789/17464789\u001b[0m \u001b[32m━━━━━━━━━━━━━━━━━━━━\u001b[0m\u001b[37m\u001b[0m \u001b[1m0s\u001b[0m 0us/step\n"
          ]
        }
      ]
    },
    {
      "cell_type": "code",
      "source": [
        "x_train.shape,y_train.shape"
      ],
      "metadata": {
        "colab": {
          "base_uri": "https://localhost:8080/"
        },
        "id": "73Mbm8zhqL-U",
        "outputId": "f3f7d7fe-505c-4f46-a1d6-b8b920029512"
      },
      "execution_count": 4,
      "outputs": [
        {
          "output_type": "execute_result",
          "data": {
            "text/plain": [
              "((25000,), (25000,))"
            ]
          },
          "metadata": {},
          "execution_count": 4
        }
      ]
    },
    {
      "cell_type": "code",
      "source": [
        "##Inspect\n",
        "sample_x=x_train[2]\n",
        "sample_y=y_train[2]"
      ],
      "metadata": {
        "id": "AXzxQHv2qNQh"
      },
      "execution_count": 5,
      "outputs": []
    },
    {
      "cell_type": "code",
      "source": [
        "##Mapping\n",
        "word_index=imdb.get_word_index()\n",
        "reverse_word_index=dict([(value,key) for (key,value) in word_index.items()])\n",
        "\n",
        "for i in sample_x:\n",
        "    print(reverse_word_index.get(i-3,'?'),end=' ')"
      ],
      "metadata": {
        "colab": {
          "base_uri": "https://localhost:8080/"
        },
        "id": "hM9ZukM4qVvT",
        "outputId": "2636d5c8-9f5b-49f6-ed04-ab8a159382f2"
      },
      "execution_count": 6,
      "outputs": [
        {
          "output_type": "stream",
          "name": "stdout",
          "text": [
            "Downloading data from https://storage.googleapis.com/tensorflow/tf-keras-datasets/imdb_word_index.json\n",
            "\u001b[1m1641221/1641221\u001b[0m \u001b[32m━━━━━━━━━━━━━━━━━━━━\u001b[0m\u001b[37m\u001b[0m \u001b[1m0s\u001b[0m 0us/step\n",
            "? this has to be one of the worst films of the ? when my friends i were watching this film being the ? audience it was ? at we just ? watched the first half an hour with our ? ? the ? at how bad it really was the rest of the time everyone else in the ? just started talking to each other ? or ? ? into their ? that they actually ? money they had ? working to watch this ? ? for a film it must have looked like a great idea on ? but on film it looks like no one in the film has a ? what is going on crap acting crap ? i can't get across how ? this is to watch save yourself an hour a bit of your life "
          ]
        }
      ]
    },
    {
      "cell_type": "code",
      "source": [
        "sample_y"
      ],
      "metadata": {
        "colab": {
          "base_uri": "https://localhost:8080/"
        },
        "id": "FsjFcF0brCEn",
        "outputId": "39038bc8-7dc5-4987-eeae-f42cbb81c60e"
      },
      "execution_count": 8,
      "outputs": [
        {
          "output_type": "execute_result",
          "data": {
            "text/plain": [
              "0"
            ]
          },
          "metadata": {},
          "execution_count": 8
        }
      ]
    },
    {
      "cell_type": "code",
      "source": [
        "from tensorflow.keras.preprocessing import sequence\n",
        "\n",
        "max_len=500\n",
        "\n",
        "x_train=sequence.pad_sequences(x_train,maxlen=max_len)\n",
        "x_test=sequence.pad_sequences(x_test,maxlen=max_len)\n",
        "x_train.shape,x_test.shape"
      ],
      "metadata": {
        "colab": {
          "base_uri": "https://localhost:8080/"
        },
        "id": "NGbcp7q6vJFf",
        "outputId": "fdc1d094-2c4e-41fc-d753-d90ea9fea489"
      },
      "execution_count": 12,
      "outputs": [
        {
          "output_type": "execute_result",
          "data": {
            "text/plain": [
              "((25000, 500), (25000, 500))"
            ]
          },
          "metadata": {},
          "execution_count": 12
        }
      ]
    },
    {
      "cell_type": "code",
      "source": [
        "x_train[0]"
      ],
      "metadata": {
        "id": "6hhjZbFBkSd9",
        "outputId": "87d9aa85-dae8-4048-82e4-33969499327c",
        "colab": {
          "base_uri": "https://localhost:8080/"
        }
      },
      "execution_count": 13,
      "outputs": [
        {
          "output_type": "execute_result",
          "data": {
            "text/plain": [
              "array([  0,   0,   0,   0,   0,   0,   0,   0,   0,   0,   0,   0,   0,\n",
              "         0,   0,   0,   0,   0,   0,   0,   0,   0,   0,   0,   0,   0,\n",
              "         0,   0,   0,   0,   0,   0,   0,   0,   0,   0,   0,   0,   0,\n",
              "         0,   0,   0,   0,   0,   0,   0,   0,   0,   0,   0,   0,   0,\n",
              "         0,   0,   0,   0,   0,   0,   0,   0,   0,   0,   0,   0,   0,\n",
              "         0,   0,   0,   0,   0,   0,   0,   0,   0,   0,   0,   0,   0,\n",
              "         0,   0,   0,   0,   0,   0,   0,   0,   0,   0,   0,   0,   0,\n",
              "         0,   0,   0,   0,   0,   0,   0,   0,   0,   0,   0,   0,   0,\n",
              "         0,   0,   0,   0,   0,   0,   0,   0,   0,   0,   0,   0,   0,\n",
              "         0,   0,   0,   0,   0,   0,   0,   0,   0,   0,   0,   0,   0,\n",
              "         0,   0,   0,   0,   0,   0,   0,   0,   0,   0,   0,   0,   0,\n",
              "         0,   0,   0,   0,   0,   0,   0,   0,   0,   0,   0,   0,   0,\n",
              "         0,   0,   0,   0,   0,   0,   0,   0,   0,   0,   0,   0,   0,\n",
              "         0,   0,   0,   0,   0,   0,   0,   0,   0,   0,   0,   0,   0,\n",
              "         0,   0,   0,   0,   0,   0,   0,   0,   0,   0,   0,   0,   0,\n",
              "         0,   0,   0,   0,   0,   0,   0,   0,   0,   0,   0,   0,   0,\n",
              "         0,   0,   0,   0,   0,   0,   0,   0,   0,   0,   0,   0,   0,\n",
              "         0,   0,   0,   0,   0,   0,   0,   0,   0,   0,   0,   0,   0,\n",
              "         0,   0,   0,   0,   0,   0,   0,   0,   0,   0,   0,   0,   0,\n",
              "         0,   0,   0,   0,   0,   0,   0,   0,   0,   0,   0,   0,   0,\n",
              "         0,   0,   0,   0,   0,   0,   0,   0,   0,   0,   0,   0,   0,\n",
              "         0,   0,   0,   0,   0,   0,   0,   0,   0,   1,  14,  22,  16,\n",
              "        43, 530, 973,   2,   2,  65, 458,   2,  66,   2,   4, 173,  36,\n",
              "       256,   5,  25, 100,  43, 838, 112,  50, 670,   2,   9,  35, 480,\n",
              "       284,   5, 150,   4, 172, 112, 167,   2, 336, 385,  39,   4, 172,\n",
              "         2,   2,  17, 546,  38,  13, 447,   4, 192,  50,  16,   6, 147,\n",
              "         2,  19,  14,  22,   4,   2,   2, 469,   4,  22,  71,  87,  12,\n",
              "        16,  43, 530,  38,  76,  15,  13,   2,   4,  22,  17, 515,  17,\n",
              "        12,  16, 626,  18,   2,   5,  62, 386,  12,   8, 316,   8, 106,\n",
              "         5,   4,   2,   2,  16, 480,  66,   2,  33,   4, 130,  12,  16,\n",
              "        38, 619,   5,  25, 124,  51,  36, 135,  48,  25,   2,  33,   6,\n",
              "        22,  12, 215,  28,  77,  52,   5,  14, 407,  16,  82,   2,   8,\n",
              "         4, 107, 117,   2,  15, 256,   4,   2,   7,   2,   5, 723,  36,\n",
              "        71,  43, 530, 476,  26, 400, 317,  46,   7,   4,   2,   2,  13,\n",
              "       104,  88,   4, 381,  15, 297,  98,  32,   2,  56,  26, 141,   6,\n",
              "       194,   2,  18,   4, 226,  22,  21, 134, 476,  26, 480,   5, 144,\n",
              "        30,   2,  18,  51,  36,  28, 224,  92,  25, 104,   4, 226,  65,\n",
              "        16,  38,   2,  88,  12,  16, 283,   5,  16,   2, 113, 103,  32,\n",
              "        15,  16,   2,  19, 178,  32], dtype=int32)"
            ]
          },
          "metadata": {},
          "execution_count": 13
        }
      ]
    },
    {
      "cell_type": "code",
      "source": [
        "#TRAIN SIMPLE RNN"
      ],
      "metadata": {
        "id": "4ZsUmGhsk0Ea"
      },
      "execution_count": 14,
      "outputs": []
    },
    {
      "cell_type": "code",
      "source": [],
      "metadata": {
        "id": "vG-vpATnk-cI"
      },
      "execution_count": null,
      "outputs": []
    }
  ],
  "metadata": {
    "kernelspec": {
      "display_name": "venv",
      "language": "python",
      "name": "python3"
    },
    "language_info": {
      "codemirror_mode": {
        "name": "ipython",
        "version": 3
      },
      "file_extension": ".py",
      "mimetype": "text/x-python",
      "name": "python",
      "nbconvert_exporter": "python",
      "pygments_lexer": "ipython3",
      "version": "3.11.0"
    },
    "colab": {
      "provenance": []
    }
  },
  "nbformat": 4,
  "nbformat_minor": 0
}