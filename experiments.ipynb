{
  "cells": [
    {
      "cell_type": "code",
      "execution_count": 2,
      "metadata": {
        "id": "nkl4a70Le7JN"
      },
      "outputs": [],
      "source": [
        "from tensorflow.keras.preprocessing.text import one_hot"
      ]
    },
    {
      "cell_type": "code",
      "source": [
        "sent=[\n",
        "    'the glass of milk',\n",
        "    'the glass of juice',\n",
        "    'the cup of tea',\n",
        "    'I am a good boy',\n",
        "    'I am a good developer',\n",
        "    'understand the meaning of words',\n",
        "    'your videos are good'\n",
        "]"
      ],
      "metadata": {
        "id": "Ec6B3jCYfGY8"
      },
      "execution_count": 4,
      "outputs": []
    },
    {
      "cell_type": "code",
      "source": [
        "voc_size=1000"
      ],
      "metadata": {
        "id": "_ZpUOCjZheoc"
      },
      "execution_count": 10,
      "outputs": []
    },
    {
      "cell_type": "code",
      "source": [
        "one_hot_rep=[one_hot(word,voc_size) for word in sent]\n",
        "one_hot_rep"
      ],
      "metadata": {
        "id": "It3FgPPWhkfW",
        "outputId": "b4202c17-e582-48ad-d704-b707f7fa153e",
        "colab": {
          "base_uri": "https://localhost:8080/"
        }
      },
      "execution_count": 11,
      "outputs": [
        {
          "output_type": "execute_result",
          "data": {
            "text/plain": [
              "[[518, 322, 676, 971],\n",
              " [518, 322, 676, 938],\n",
              " [518, 408, 676, 297],\n",
              " [942, 513, 872, 593, 145],\n",
              " [942, 513, 872, 593, 82],\n",
              " [50, 518, 28, 676, 838],\n",
              " [450, 561, 612, 593]]"
            ]
          },
          "metadata": {},
          "execution_count": 11
        }
      ]
    },
    {
      "cell_type": "code",
      "source": [],
      "metadata": {
        "id": "qytXxpUwh3e2"
      },
      "execution_count": null,
      "outputs": []
    }
  ],
  "metadata": {
    "kernelspec": {
      "display_name": "venv",
      "language": "python",
      "name": "python3"
    },
    "language_info": {
      "codemirror_mode": {
        "name": "ipython",
        "version": 3
      },
      "file_extension": ".py",
      "mimetype": "text/x-python",
      "name": "python",
      "nbconvert_exporter": "python",
      "pygments_lexer": "ipython3",
      "version": "3.11.0"
    },
    "colab": {
      "provenance": []
    }
  },
  "nbformat": 4,
  "nbformat_minor": 0
}